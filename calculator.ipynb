{
 "cells": [
  {
   "cell_type": "markdown",
   "metadata": {},
   "source": [
    "# Force Calculator\n",
    "\n",
    "Given a set of parameters, this notebook calculates the required amperage in the wire to flip the magnet.\n",
    "\n",
    "The following contains a diagram of the setup.\n",
    "\n",
    "![setup diagram](diagrams/setup.png)"
   ]
  },
  {
   "cell_type": "markdown",
   "metadata": {},
   "source": [
    "## Imports"
   ]
  },
  {
   "cell_type": "code",
   "execution_count": 325,
   "metadata": {},
   "outputs": [],
   "source": [
    "from collections import ChainMap\n",
    "import sympy as sym\n",
    "import sympy.vector as vec\n",
    "from scipy import constants"
   ]
  },
  {
   "cell_type": "markdown",
   "metadata": {},
   "source": [
    "## Parameters"
   ]
  },
  {
   "cell_type": "markdown",
   "metadata": {},
   "source": [
    "### Parameters"
   ]
  },
  {
   "cell_type": "code",
   "execution_count": 469,
   "metadata": {},
   "outputs": [],
   "source": [
    "# Solenoid Parameters\n",
    "solenoid_radius = 0.007 # m\n",
    "wire_radius = 0.000792 # m\n",
    "number_of_levels = 1\n",
    "turns_per_level = 1 # how many coils are at the same level\n",
    "amperage = 2 # A, max is 5A for wire and 0.012A for esp32, usb-c min is 3A\n",
    "\n",
    "# Dipole Position Parameters\n",
    "dipole_z = 0.005 # m\n",
    "dipole_x = 0.007/2 # m, in the direction of r_hat where x = 0 is the center of the solenoid\n",
    "\n",
    "# Dipole Properties\n",
    "dipole_moment_magnitude = 0.0168 # A m^2. Use https://www.kjmagnetics.com/calculator.asp to calculate this."
   ]
  },
  {
   "cell_type": "markdown",
   "metadata": {},
   "source": [
    "## Magnetic Field Equation"
   ]
  },
  {
   "cell_type": "code",
   "execution_count": 327,
   "metadata": {},
   "outputs": [
    {
     "data": {
      "text/latex": [
       "$\\displaystyle \\left(1.00000000054438 \\cdot 10^{-7} D I \\left(- \\mathbf{{R}_{C}} + D\\right) \\int\\limits_{0}^{6.28318530717959} \\left(\\mathbf{{R}_{C}}^{2} - 2 \\mathbf{{R}_{C}} D \\cos{\\left(\\theta \\right)} + D^{2} + \\left(\\mathbf{{K}_{C}} + z_{0}\\right)^{2}\\right)^{-1.5}\\, d\\theta\\right)\\mathbf{\\hat{k}_{C}} + \\left(1.00000000054438 \\cdot 10^{-7} D I \\left(\\mathbf{{K}_{C}} + z_{0}\\right) \\int\\limits_{0}^{6.28318530717959} \\left(\\mathbf{{R}_{C}}^{2} - 2 \\mathbf{{R}_{C}} D \\cos{\\left(\\theta \\right)} + D^{2} + \\left(\\mathbf{{K}_{C}} + z_{0}\\right)^{2}\\right)^{-1.5}\\, d\\theta\\right)\\mathbf{\\hat{r}_{C}}$"
      ],
      "text/plain": [
       "(1.00000000054438e-7*D*I*(C.K + z_0)*Integral((C.R**2 - 2*C.R*D*cos(theta) + D**2 + (C.K + z_0)**2)**(-1.5), (theta, 0, 6.28318530717959)))*C.r + (1.00000000054438e-7*D*I*(-C.R + D)*Integral((C.R**2 - 2*C.R*D*cos(theta) + D**2 + (C.K + z_0)**2)**(-1.5), (theta, 0, 6.28318530717959)))*C.k"
      ]
     },
     "execution_count": 327,
     "metadata": {},
     "output_type": "execute_result"
    }
   ],
   "source": [
    "C = vec.CoordSys3D('C', transformation='cylindrical', vector_names=list('rtk'), variable_names=list('RTK'))\n",
    "\n",
    "(\n",
    "D, # Radius of the solenoid\n",
    "r_0, # Distance along theta = 0 from the center of the solenoid\n",
    "z_0, # Distance along z from the center of the solenoid\n",
    "theta, # Angle from the center of the solenoid\n",
    "pi, # Pi\n",
    "mu_0, # Permeability of free space\n",
    ") = sym.symbols('D r_0 z_0 theta pi mu_0', real=True, positive=True)\n",
    "\n",
    "I = sym.symbols('I', real=True) # Current in the solenoid\n",
    "\n",
    "# Magnetic field of a solenoid\n",
    "B_original = mu_0*I*D / (4 * pi) * sym.integrate((z_0 * C.r + (D - r_0) * C.k) / (D**2 - 2*r_0*D*sym.cos(theta) + r_0**2 + z_0**2)**(3/2), (theta, 0, 2*pi))\n",
    "B_point = B_original.subs({ mu_0: constants.mu_0, pi: constants.pi }).subs({\n",
    "    r_0: C.R,\n",
    "    z_0: C.K + z_0,\n",
    "})\n",
    "\n",
    "# Print the magnetic field\n",
    "B_point.simplify()"
   ]
  },
  {
   "cell_type": "markdown",
   "metadata": {},
   "source": [
    "Testing..."
   ]
  },
  {
   "cell_type": "code",
   "execution_count": 410,
   "metadata": {},
   "outputs": [
    {
     "name": "stdout",
     "output_type": "stream",
     "text": [
      "(6.2831853106e-7)*C.k\n",
      "(5.61985178789189e-6)*C.r + (1.12397035757838e-5)*C.k\n"
     ]
    }
   ],
   "source": [
    "# Compare to the answer 6.2831 * 10^-7 k_hat\n",
    "print(B_point.subs({ C.R: 0, C.K: 0, D: 1, I: 1, z_0: 0 }).simplify())\n",
    "\n",
    "\n",
    "print(B_point.subs({ C.R: dipole_x, C.K: dipole_z, D: solenoid_radius, I: amperage, z_0: 0 }).simplify())"
   ]
  },
  {
   "cell_type": "markdown",
   "metadata": {},
   "source": [
    "## Force Acting on Dipole"
   ]
  },
  {
   "cell_type": "code",
   "execution_count": 478,
   "metadata": {},
   "outputs": [
    {
     "ename": "KeyboardInterrupt",
     "evalue": "",
     "output_type": "error",
     "traceback": [
      "\u001b[0;31m---------------------------------------------------------------------------\u001b[0m",
      "\u001b[0;31mKeyboardInterrupt\u001b[0m                         Traceback (most recent call last)",
      "Cell \u001b[0;32mIn[478], line 8\u001b[0m\n\u001b[1;32m      5\u001b[0m F_dipole \u001b[38;5;241m=\u001b[39m mu\u001b[38;5;241m.\u001b[39mdot(delop)(B_point)\n\u001b[1;32m      7\u001b[0m \u001b[38;5;66;03m# Display the dipole force expression\u001b[39;00m\n\u001b[0;32m----> 8\u001b[0m \u001b[43mF_dipole\u001b[49m\u001b[38;5;241;43m.\u001b[39;49m\u001b[43msimplify\u001b[49m\u001b[43m(\u001b[49m\u001b[43m)\u001b[49m\n",
      "File \u001b[0;32m~/Documents/GitHub/flip-disc-display/.venv/lib/python3.10/site-packages/sympy/vector/basisdependent.py:92\u001b[0m, in \u001b[0;36mBasisDependent.simplify\u001b[0;34m(self, **kwargs)\u001b[0m\n\u001b[1;32m     84\u001b[0m \u001b[38;5;28;01mdef\u001b[39;00m \u001b[38;5;21msimplify\u001b[39m(\u001b[38;5;28mself\u001b[39m, \u001b[38;5;241m*\u001b[39m\u001b[38;5;241m*\u001b[39mkwargs):\n\u001b[1;32m     85\u001b[0m \u001b[38;5;250m    \u001b[39m\u001b[38;5;124;03m\"\"\"\u001b[39;00m\n\u001b[1;32m     86\u001b[0m \u001b[38;5;124;03m    Implements the SymPy simplify routine for this quantity.\u001b[39;00m\n\u001b[1;32m     87\u001b[0m \n\u001b[0;32m   (...)\u001b[0m\n\u001b[1;32m     90\u001b[0m \n\u001b[1;32m     91\u001b[0m \u001b[38;5;124;03m    \"\"\"\u001b[39;00m\n\u001b[0;32m---> 92\u001b[0m     simp_components \u001b[38;5;241m=\u001b[39m [simp(v, \u001b[38;5;241m*\u001b[39m\u001b[38;5;241m*\u001b[39mkwargs) \u001b[38;5;241m*\u001b[39m k \u001b[38;5;28;01mfor\u001b[39;00m\n\u001b[1;32m     93\u001b[0m                        k, v \u001b[38;5;129;01min\u001b[39;00m \u001b[38;5;28mself\u001b[39m\u001b[38;5;241m.\u001b[39mcomponents\u001b[38;5;241m.\u001b[39mitems()]\n\u001b[1;32m     94\u001b[0m     \u001b[38;5;28;01mreturn\u001b[39;00m \u001b[38;5;28mself\u001b[39m\u001b[38;5;241m.\u001b[39m_add_func(\u001b[38;5;241m*\u001b[39msimp_components)\n",
      "File \u001b[0;32m~/Documents/GitHub/flip-disc-display/.venv/lib/python3.10/site-packages/sympy/vector/basisdependent.py:92\u001b[0m, in \u001b[0;36m<listcomp>\u001b[0;34m(.0)\u001b[0m\n\u001b[1;32m     84\u001b[0m \u001b[38;5;28;01mdef\u001b[39;00m \u001b[38;5;21msimplify\u001b[39m(\u001b[38;5;28mself\u001b[39m, \u001b[38;5;241m*\u001b[39m\u001b[38;5;241m*\u001b[39mkwargs):\n\u001b[1;32m     85\u001b[0m \u001b[38;5;250m    \u001b[39m\u001b[38;5;124;03m\"\"\"\u001b[39;00m\n\u001b[1;32m     86\u001b[0m \u001b[38;5;124;03m    Implements the SymPy simplify routine for this quantity.\u001b[39;00m\n\u001b[1;32m     87\u001b[0m \n\u001b[0;32m   (...)\u001b[0m\n\u001b[1;32m     90\u001b[0m \n\u001b[1;32m     91\u001b[0m \u001b[38;5;124;03m    \"\"\"\u001b[39;00m\n\u001b[0;32m---> 92\u001b[0m     simp_components \u001b[38;5;241m=\u001b[39m [\u001b[43msimp\u001b[49m\u001b[43m(\u001b[49m\u001b[43mv\u001b[49m\u001b[43m,\u001b[49m\u001b[43m \u001b[49m\u001b[38;5;241;43m*\u001b[39;49m\u001b[38;5;241;43m*\u001b[39;49m\u001b[43mkwargs\u001b[49m\u001b[43m)\u001b[49m \u001b[38;5;241m*\u001b[39m k \u001b[38;5;28;01mfor\u001b[39;00m\n\u001b[1;32m     93\u001b[0m                        k, v \u001b[38;5;129;01min\u001b[39;00m \u001b[38;5;28mself\u001b[39m\u001b[38;5;241m.\u001b[39mcomponents\u001b[38;5;241m.\u001b[39mitems()]\n\u001b[1;32m     94\u001b[0m     \u001b[38;5;28;01mreturn\u001b[39;00m \u001b[38;5;28mself\u001b[39m\u001b[38;5;241m.\u001b[39m_add_func(\u001b[38;5;241m*\u001b[39msimp_components)\n",
      "File \u001b[0;32m~/Documents/GitHub/flip-disc-display/.venv/lib/python3.10/site-packages/sympy/simplify/simplify.py:760\u001b[0m, in \u001b[0;36msimplify\u001b[0;34m(expr, ratio, measure, rational, inverse, doit, **kwargs)\u001b[0m\n\u001b[1;32m    757\u001b[0m \u001b[38;5;28;01mif\u001b[39;00m floats \u001b[38;5;129;01mand\u001b[39;00m rational \u001b[38;5;129;01mis\u001b[39;00m \u001b[38;5;28;01mNone\u001b[39;00m:\n\u001b[1;32m    758\u001b[0m     expr \u001b[38;5;241m=\u001b[39m nfloat(expr, exponent\u001b[38;5;241m=\u001b[39m\u001b[38;5;28;01mFalse\u001b[39;00m)\n\u001b[0;32m--> 760\u001b[0m \u001b[38;5;28;01mreturn\u001b[39;00m \u001b[43mdone\u001b[49m\u001b[43m(\u001b[49m\u001b[43mexpr\u001b[49m\u001b[43m)\u001b[49m\n",
      "File \u001b[0;32m~/Documents/GitHub/flip-disc-display/.venv/lib/python3.10/site-packages/sympy/simplify/simplify.py:585\u001b[0m, in \u001b[0;36msimplify.<locals>.done\u001b[0;34m(e)\u001b[0m\n\u001b[1;32m    584\u001b[0m \u001b[38;5;28;01mdef\u001b[39;00m \u001b[38;5;21mdone\u001b[39m(e):\n\u001b[0;32m--> 585\u001b[0m     rv \u001b[38;5;241m=\u001b[39m \u001b[43me\u001b[49m\u001b[38;5;241;43m.\u001b[39;49m\u001b[43mdoit\u001b[49m\u001b[43m(\u001b[49m\u001b[43m)\u001b[49m \u001b[38;5;28;01mif\u001b[39;00m doit \u001b[38;5;28;01melse\u001b[39;00m e\n\u001b[1;32m    586\u001b[0m     \u001b[38;5;28;01mreturn\u001b[39;00m shorter(rv, collect_abs(rv))\n",
      "File \u001b[0;32m~/Documents/GitHub/flip-disc-display/.venv/lib/python3.10/site-packages/sympy/core/operations.py:455\u001b[0m, in \u001b[0;36mAssocOp.doit\u001b[0;34m(self, **hints)\u001b[0m\n\u001b[1;32m    453\u001b[0m \u001b[38;5;28;01mdef\u001b[39;00m \u001b[38;5;21mdoit\u001b[39m(\u001b[38;5;28mself\u001b[39m, \u001b[38;5;241m*\u001b[39m\u001b[38;5;241m*\u001b[39mhints):\n\u001b[1;32m    454\u001b[0m     \u001b[38;5;28;01mif\u001b[39;00m hints\u001b[38;5;241m.\u001b[39mget(\u001b[38;5;124m'\u001b[39m\u001b[38;5;124mdeep\u001b[39m\u001b[38;5;124m'\u001b[39m, \u001b[38;5;28;01mTrue\u001b[39;00m):\n\u001b[0;32m--> 455\u001b[0m         terms \u001b[38;5;241m=\u001b[39m [term\u001b[38;5;241m.\u001b[39mdoit(\u001b[38;5;241m*\u001b[39m\u001b[38;5;241m*\u001b[39mhints) \u001b[38;5;28;01mfor\u001b[39;00m term \u001b[38;5;129;01min\u001b[39;00m \u001b[38;5;28mself\u001b[39m\u001b[38;5;241m.\u001b[39margs]\n\u001b[1;32m    456\u001b[0m     \u001b[38;5;28;01melse\u001b[39;00m:\n\u001b[1;32m    457\u001b[0m         terms \u001b[38;5;241m=\u001b[39m \u001b[38;5;28mself\u001b[39m\u001b[38;5;241m.\u001b[39margs\n",
      "File \u001b[0;32m~/Documents/GitHub/flip-disc-display/.venv/lib/python3.10/site-packages/sympy/core/operations.py:455\u001b[0m, in \u001b[0;36m<listcomp>\u001b[0;34m(.0)\u001b[0m\n\u001b[1;32m    453\u001b[0m \u001b[38;5;28;01mdef\u001b[39;00m \u001b[38;5;21mdoit\u001b[39m(\u001b[38;5;28mself\u001b[39m, \u001b[38;5;241m*\u001b[39m\u001b[38;5;241m*\u001b[39mhints):\n\u001b[1;32m    454\u001b[0m     \u001b[38;5;28;01mif\u001b[39;00m hints\u001b[38;5;241m.\u001b[39mget(\u001b[38;5;124m'\u001b[39m\u001b[38;5;124mdeep\u001b[39m\u001b[38;5;124m'\u001b[39m, \u001b[38;5;28;01mTrue\u001b[39;00m):\n\u001b[0;32m--> 455\u001b[0m         terms \u001b[38;5;241m=\u001b[39m [\u001b[43mterm\u001b[49m\u001b[38;5;241;43m.\u001b[39;49m\u001b[43mdoit\u001b[49m\u001b[43m(\u001b[49m\u001b[38;5;241;43m*\u001b[39;49m\u001b[38;5;241;43m*\u001b[39;49m\u001b[43mhints\u001b[49m\u001b[43m)\u001b[49m \u001b[38;5;28;01mfor\u001b[39;00m term \u001b[38;5;129;01min\u001b[39;00m \u001b[38;5;28mself\u001b[39m\u001b[38;5;241m.\u001b[39margs]\n\u001b[1;32m    456\u001b[0m     \u001b[38;5;28;01melse\u001b[39;00m:\n\u001b[1;32m    457\u001b[0m         terms \u001b[38;5;241m=\u001b[39m \u001b[38;5;28mself\u001b[39m\u001b[38;5;241m.\u001b[39margs\n",
      "File \u001b[0;32m~/Documents/GitHub/flip-disc-display/.venv/lib/python3.10/site-packages/sympy/core/operations.py:455\u001b[0m, in \u001b[0;36mAssocOp.doit\u001b[0;34m(self, **hints)\u001b[0m\n\u001b[1;32m    453\u001b[0m \u001b[38;5;28;01mdef\u001b[39;00m \u001b[38;5;21mdoit\u001b[39m(\u001b[38;5;28mself\u001b[39m, \u001b[38;5;241m*\u001b[39m\u001b[38;5;241m*\u001b[39mhints):\n\u001b[1;32m    454\u001b[0m     \u001b[38;5;28;01mif\u001b[39;00m hints\u001b[38;5;241m.\u001b[39mget(\u001b[38;5;124m'\u001b[39m\u001b[38;5;124mdeep\u001b[39m\u001b[38;5;124m'\u001b[39m, \u001b[38;5;28;01mTrue\u001b[39;00m):\n\u001b[0;32m--> 455\u001b[0m         terms \u001b[38;5;241m=\u001b[39m [term\u001b[38;5;241m.\u001b[39mdoit(\u001b[38;5;241m*\u001b[39m\u001b[38;5;241m*\u001b[39mhints) \u001b[38;5;28;01mfor\u001b[39;00m term \u001b[38;5;129;01min\u001b[39;00m \u001b[38;5;28mself\u001b[39m\u001b[38;5;241m.\u001b[39margs]\n\u001b[1;32m    456\u001b[0m     \u001b[38;5;28;01melse\u001b[39;00m:\n\u001b[1;32m    457\u001b[0m         terms \u001b[38;5;241m=\u001b[39m \u001b[38;5;28mself\u001b[39m\u001b[38;5;241m.\u001b[39margs\n",
      "File \u001b[0;32m~/Documents/GitHub/flip-disc-display/.venv/lib/python3.10/site-packages/sympy/core/operations.py:455\u001b[0m, in \u001b[0;36m<listcomp>\u001b[0;34m(.0)\u001b[0m\n\u001b[1;32m    453\u001b[0m \u001b[38;5;28;01mdef\u001b[39;00m \u001b[38;5;21mdoit\u001b[39m(\u001b[38;5;28mself\u001b[39m, \u001b[38;5;241m*\u001b[39m\u001b[38;5;241m*\u001b[39mhints):\n\u001b[1;32m    454\u001b[0m     \u001b[38;5;28;01mif\u001b[39;00m hints\u001b[38;5;241m.\u001b[39mget(\u001b[38;5;124m'\u001b[39m\u001b[38;5;124mdeep\u001b[39m\u001b[38;5;124m'\u001b[39m, \u001b[38;5;28;01mTrue\u001b[39;00m):\n\u001b[0;32m--> 455\u001b[0m         terms \u001b[38;5;241m=\u001b[39m [\u001b[43mterm\u001b[49m\u001b[38;5;241;43m.\u001b[39;49m\u001b[43mdoit\u001b[49m\u001b[43m(\u001b[49m\u001b[38;5;241;43m*\u001b[39;49m\u001b[38;5;241;43m*\u001b[39;49m\u001b[43mhints\u001b[49m\u001b[43m)\u001b[49m \u001b[38;5;28;01mfor\u001b[39;00m term \u001b[38;5;129;01min\u001b[39;00m \u001b[38;5;28mself\u001b[39m\u001b[38;5;241m.\u001b[39margs]\n\u001b[1;32m    456\u001b[0m     \u001b[38;5;28;01melse\u001b[39;00m:\n\u001b[1;32m    457\u001b[0m         terms \u001b[38;5;241m=\u001b[39m \u001b[38;5;28mself\u001b[39m\u001b[38;5;241m.\u001b[39margs\n",
      "File \u001b[0;32m~/Documents/GitHub/flip-disc-display/.venv/lib/python3.10/site-packages/sympy/core/operations.py:455\u001b[0m, in \u001b[0;36mAssocOp.doit\u001b[0;34m(self, **hints)\u001b[0m\n\u001b[1;32m    453\u001b[0m \u001b[38;5;28;01mdef\u001b[39;00m \u001b[38;5;21mdoit\u001b[39m(\u001b[38;5;28mself\u001b[39m, \u001b[38;5;241m*\u001b[39m\u001b[38;5;241m*\u001b[39mhints):\n\u001b[1;32m    454\u001b[0m     \u001b[38;5;28;01mif\u001b[39;00m hints\u001b[38;5;241m.\u001b[39mget(\u001b[38;5;124m'\u001b[39m\u001b[38;5;124mdeep\u001b[39m\u001b[38;5;124m'\u001b[39m, \u001b[38;5;28;01mTrue\u001b[39;00m):\n\u001b[0;32m--> 455\u001b[0m         terms \u001b[38;5;241m=\u001b[39m [term\u001b[38;5;241m.\u001b[39mdoit(\u001b[38;5;241m*\u001b[39m\u001b[38;5;241m*\u001b[39mhints) \u001b[38;5;28;01mfor\u001b[39;00m term \u001b[38;5;129;01min\u001b[39;00m \u001b[38;5;28mself\u001b[39m\u001b[38;5;241m.\u001b[39margs]\n\u001b[1;32m    456\u001b[0m     \u001b[38;5;28;01melse\u001b[39;00m:\n\u001b[1;32m    457\u001b[0m         terms \u001b[38;5;241m=\u001b[39m \u001b[38;5;28mself\u001b[39m\u001b[38;5;241m.\u001b[39margs\n",
      "File \u001b[0;32m~/Documents/GitHub/flip-disc-display/.venv/lib/python3.10/site-packages/sympy/core/operations.py:455\u001b[0m, in \u001b[0;36m<listcomp>\u001b[0;34m(.0)\u001b[0m\n\u001b[1;32m    453\u001b[0m \u001b[38;5;28;01mdef\u001b[39;00m \u001b[38;5;21mdoit\u001b[39m(\u001b[38;5;28mself\u001b[39m, \u001b[38;5;241m*\u001b[39m\u001b[38;5;241m*\u001b[39mhints):\n\u001b[1;32m    454\u001b[0m     \u001b[38;5;28;01mif\u001b[39;00m hints\u001b[38;5;241m.\u001b[39mget(\u001b[38;5;124m'\u001b[39m\u001b[38;5;124mdeep\u001b[39m\u001b[38;5;124m'\u001b[39m, \u001b[38;5;28;01mTrue\u001b[39;00m):\n\u001b[0;32m--> 455\u001b[0m         terms \u001b[38;5;241m=\u001b[39m [\u001b[43mterm\u001b[49m\u001b[38;5;241;43m.\u001b[39;49m\u001b[43mdoit\u001b[49m\u001b[43m(\u001b[49m\u001b[38;5;241;43m*\u001b[39;49m\u001b[38;5;241;43m*\u001b[39;49m\u001b[43mhints\u001b[49m\u001b[43m)\u001b[49m \u001b[38;5;28;01mfor\u001b[39;00m term \u001b[38;5;129;01min\u001b[39;00m \u001b[38;5;28mself\u001b[39m\u001b[38;5;241m.\u001b[39margs]\n\u001b[1;32m    456\u001b[0m     \u001b[38;5;28;01melse\u001b[39;00m:\n\u001b[1;32m    457\u001b[0m         terms \u001b[38;5;241m=\u001b[39m \u001b[38;5;28mself\u001b[39m\u001b[38;5;241m.\u001b[39margs\n",
      "File \u001b[0;32m~/Documents/GitHub/flip-disc-display/.venv/lib/python3.10/site-packages/sympy/integrals/integrals.py:619\u001b[0m, in \u001b[0;36mIntegral.doit\u001b[0;34m(self, **hints)\u001b[0m\n\u001b[1;32m    617\u001b[0m     antideriv \u001b[38;5;241m=\u001b[39m \u001b[38;5;28;01mNone\u001b[39;00m\n\u001b[1;32m    618\u001b[0m \u001b[38;5;28;01melse\u001b[39;00m:\n\u001b[0;32m--> 619\u001b[0m     antideriv \u001b[38;5;241m=\u001b[39m \u001b[38;5;28;43mself\u001b[39;49m\u001b[38;5;241;43m.\u001b[39;49m\u001b[43m_eval_integral\u001b[49m\u001b[43m(\u001b[49m\n\u001b[1;32m    620\u001b[0m \u001b[43m        \u001b[49m\u001b[43mfunction\u001b[49m\u001b[43m,\u001b[49m\u001b[43m \u001b[49m\u001b[43mxab\u001b[49m\u001b[43m[\u001b[49m\u001b[38;5;241;43m0\u001b[39;49m\u001b[43m]\u001b[49m\u001b[43m,\u001b[49m\u001b[43m \u001b[49m\u001b[38;5;241;43m*\u001b[39;49m\u001b[38;5;241;43m*\u001b[39;49m\u001b[43meval_kwargs\u001b[49m\u001b[43m)\u001b[49m\n\u001b[1;32m    621\u001b[0m     \u001b[38;5;28;01mif\u001b[39;00m antideriv \u001b[38;5;129;01mis\u001b[39;00m \u001b[38;5;28;01mNone\u001b[39;00m \u001b[38;5;129;01mand\u001b[39;00m meijerg \u001b[38;5;129;01mis\u001b[39;00m \u001b[38;5;28;01mTrue\u001b[39;00m:\n\u001b[1;32m    622\u001b[0m         ret \u001b[38;5;241m=\u001b[39m try_meijerg(function, xab)\n",
      "File \u001b[0;32m~/Documents/GitHub/flip-disc-display/.venv/lib/python3.10/site-packages/sympy/integrals/integrals.py:1125\u001b[0m, in \u001b[0;36mIntegral._eval_integral\u001b[0;34m(self, f, x, meijerg, risch, manual, heurisch, conds, final)\u001b[0m\n\u001b[1;32m   1123\u001b[0m     new_eval_kwargs[\u001b[38;5;124m\"\u001b[39m\u001b[38;5;124mmanual\u001b[39m\u001b[38;5;124m\"\u001b[39m] \u001b[38;5;241m=\u001b[39m \u001b[38;5;28;01mFalse\u001b[39;00m\n\u001b[1;32m   1124\u001b[0m     new_eval_kwargs[\u001b[38;5;124m\"\u001b[39m\u001b[38;5;124mfinal\u001b[39m\u001b[38;5;124m\"\u001b[39m] \u001b[38;5;241m=\u001b[39m \u001b[38;5;28;01mFalse\u001b[39;00m\n\u001b[0;32m-> 1125\u001b[0m     result \u001b[38;5;241m=\u001b[39m result\u001b[38;5;241m.\u001b[39mfunc(\u001b[38;5;241m*\u001b[39m[\n\u001b[1;32m   1126\u001b[0m         arg\u001b[38;5;241m.\u001b[39mdoit(\u001b[38;5;241m*\u001b[39m\u001b[38;5;241m*\u001b[39mnew_eval_kwargs) \u001b[38;5;28;01mif\u001b[39;00m\n\u001b[1;32m   1127\u001b[0m         arg\u001b[38;5;241m.\u001b[39mhas(Integral) \u001b[38;5;28;01melse\u001b[39;00m arg\n\u001b[1;32m   1128\u001b[0m         \u001b[38;5;28;01mfor\u001b[39;00m arg \u001b[38;5;129;01min\u001b[39;00m result\u001b[38;5;241m.\u001b[39margs\n\u001b[1;32m   1129\u001b[0m     ])\u001b[38;5;241m.\u001b[39mexpand(multinomial\u001b[38;5;241m=\u001b[39m\u001b[38;5;28;01mFalse\u001b[39;00m,\n\u001b[1;32m   1130\u001b[0m               log\u001b[38;5;241m=\u001b[39m\u001b[38;5;28;01mFalse\u001b[39;00m,\n\u001b[1;32m   1131\u001b[0m               power_exp\u001b[38;5;241m=\u001b[39m\u001b[38;5;28;01mFalse\u001b[39;00m,\n\u001b[1;32m   1132\u001b[0m               power_base\u001b[38;5;241m=\u001b[39m\u001b[38;5;28;01mFalse\u001b[39;00m)\n\u001b[1;32m   1133\u001b[0m \u001b[38;5;28;01mif\u001b[39;00m \u001b[38;5;129;01mnot\u001b[39;00m result\u001b[38;5;241m.\u001b[39mhas(Integral):\n\u001b[1;32m   1134\u001b[0m     parts\u001b[38;5;241m.\u001b[39mappend(coeff \u001b[38;5;241m*\u001b[39m result)\n",
      "File \u001b[0;32m~/Documents/GitHub/flip-disc-display/.venv/lib/python3.10/site-packages/sympy/integrals/integrals.py:1126\u001b[0m, in \u001b[0;36m<listcomp>\u001b[0;34m(.0)\u001b[0m\n\u001b[1;32m   1123\u001b[0m     new_eval_kwargs[\u001b[38;5;124m\"\u001b[39m\u001b[38;5;124mmanual\u001b[39m\u001b[38;5;124m\"\u001b[39m] \u001b[38;5;241m=\u001b[39m \u001b[38;5;28;01mFalse\u001b[39;00m\n\u001b[1;32m   1124\u001b[0m     new_eval_kwargs[\u001b[38;5;124m\"\u001b[39m\u001b[38;5;124mfinal\u001b[39m\u001b[38;5;124m\"\u001b[39m] \u001b[38;5;241m=\u001b[39m \u001b[38;5;28;01mFalse\u001b[39;00m\n\u001b[1;32m   1125\u001b[0m     result \u001b[38;5;241m=\u001b[39m result\u001b[38;5;241m.\u001b[39mfunc(\u001b[38;5;241m*\u001b[39m[\n\u001b[0;32m-> 1126\u001b[0m         \u001b[43marg\u001b[49m\u001b[38;5;241;43m.\u001b[39;49m\u001b[43mdoit\u001b[49m\u001b[43m(\u001b[49m\u001b[38;5;241;43m*\u001b[39;49m\u001b[38;5;241;43m*\u001b[39;49m\u001b[43mnew_eval_kwargs\u001b[49m\u001b[43m)\u001b[49m \u001b[38;5;28;01mif\u001b[39;00m\n\u001b[1;32m   1127\u001b[0m         arg\u001b[38;5;241m.\u001b[39mhas(Integral) \u001b[38;5;28;01melse\u001b[39;00m arg\n\u001b[1;32m   1128\u001b[0m         \u001b[38;5;28;01mfor\u001b[39;00m arg \u001b[38;5;129;01min\u001b[39;00m result\u001b[38;5;241m.\u001b[39margs\n\u001b[1;32m   1129\u001b[0m     ])\u001b[38;5;241m.\u001b[39mexpand(multinomial\u001b[38;5;241m=\u001b[39m\u001b[38;5;28;01mFalse\u001b[39;00m,\n\u001b[1;32m   1130\u001b[0m               log\u001b[38;5;241m=\u001b[39m\u001b[38;5;28;01mFalse\u001b[39;00m,\n\u001b[1;32m   1131\u001b[0m               power_exp\u001b[38;5;241m=\u001b[39m\u001b[38;5;28;01mFalse\u001b[39;00m,\n\u001b[1;32m   1132\u001b[0m               power_base\u001b[38;5;241m=\u001b[39m\u001b[38;5;28;01mFalse\u001b[39;00m)\n\u001b[1;32m   1133\u001b[0m \u001b[38;5;28;01mif\u001b[39;00m \u001b[38;5;129;01mnot\u001b[39;00m result\u001b[38;5;241m.\u001b[39mhas(Integral):\n\u001b[1;32m   1134\u001b[0m     parts\u001b[38;5;241m.\u001b[39mappend(coeff \u001b[38;5;241m*\u001b[39m result)\n",
      "File \u001b[0;32m~/Documents/GitHub/flip-disc-display/.venv/lib/python3.10/site-packages/sympy/core/operations.py:455\u001b[0m, in \u001b[0;36mAssocOp.doit\u001b[0;34m(self, **hints)\u001b[0m\n\u001b[1;32m    453\u001b[0m \u001b[38;5;28;01mdef\u001b[39;00m \u001b[38;5;21mdoit\u001b[39m(\u001b[38;5;28mself\u001b[39m, \u001b[38;5;241m*\u001b[39m\u001b[38;5;241m*\u001b[39mhints):\n\u001b[1;32m    454\u001b[0m     \u001b[38;5;28;01mif\u001b[39;00m hints\u001b[38;5;241m.\u001b[39mget(\u001b[38;5;124m'\u001b[39m\u001b[38;5;124mdeep\u001b[39m\u001b[38;5;124m'\u001b[39m, \u001b[38;5;28;01mTrue\u001b[39;00m):\n\u001b[0;32m--> 455\u001b[0m         terms \u001b[38;5;241m=\u001b[39m [term\u001b[38;5;241m.\u001b[39mdoit(\u001b[38;5;241m*\u001b[39m\u001b[38;5;241m*\u001b[39mhints) \u001b[38;5;28;01mfor\u001b[39;00m term \u001b[38;5;129;01min\u001b[39;00m \u001b[38;5;28mself\u001b[39m\u001b[38;5;241m.\u001b[39margs]\n\u001b[1;32m    456\u001b[0m     \u001b[38;5;28;01melse\u001b[39;00m:\n\u001b[1;32m    457\u001b[0m         terms \u001b[38;5;241m=\u001b[39m \u001b[38;5;28mself\u001b[39m\u001b[38;5;241m.\u001b[39margs\n",
      "File \u001b[0;32m~/Documents/GitHub/flip-disc-display/.venv/lib/python3.10/site-packages/sympy/core/operations.py:455\u001b[0m, in \u001b[0;36m<listcomp>\u001b[0;34m(.0)\u001b[0m\n\u001b[1;32m    453\u001b[0m \u001b[38;5;28;01mdef\u001b[39;00m \u001b[38;5;21mdoit\u001b[39m(\u001b[38;5;28mself\u001b[39m, \u001b[38;5;241m*\u001b[39m\u001b[38;5;241m*\u001b[39mhints):\n\u001b[1;32m    454\u001b[0m     \u001b[38;5;28;01mif\u001b[39;00m hints\u001b[38;5;241m.\u001b[39mget(\u001b[38;5;124m'\u001b[39m\u001b[38;5;124mdeep\u001b[39m\u001b[38;5;124m'\u001b[39m, \u001b[38;5;28;01mTrue\u001b[39;00m):\n\u001b[0;32m--> 455\u001b[0m         terms \u001b[38;5;241m=\u001b[39m [\u001b[43mterm\u001b[49m\u001b[38;5;241;43m.\u001b[39;49m\u001b[43mdoit\u001b[49m\u001b[43m(\u001b[49m\u001b[38;5;241;43m*\u001b[39;49m\u001b[38;5;241;43m*\u001b[39;49m\u001b[43mhints\u001b[49m\u001b[43m)\u001b[49m \u001b[38;5;28;01mfor\u001b[39;00m term \u001b[38;5;129;01min\u001b[39;00m \u001b[38;5;28mself\u001b[39m\u001b[38;5;241m.\u001b[39margs]\n\u001b[1;32m    456\u001b[0m     \u001b[38;5;28;01melse\u001b[39;00m:\n\u001b[1;32m    457\u001b[0m         terms \u001b[38;5;241m=\u001b[39m \u001b[38;5;28mself\u001b[39m\u001b[38;5;241m.\u001b[39margs\n",
      "File \u001b[0;32m~/Documents/GitHub/flip-disc-display/.venv/lib/python3.10/site-packages/sympy/integrals/integrals.py:619\u001b[0m, in \u001b[0;36mIntegral.doit\u001b[0;34m(self, **hints)\u001b[0m\n\u001b[1;32m    617\u001b[0m     antideriv \u001b[38;5;241m=\u001b[39m \u001b[38;5;28;01mNone\u001b[39;00m\n\u001b[1;32m    618\u001b[0m \u001b[38;5;28;01melse\u001b[39;00m:\n\u001b[0;32m--> 619\u001b[0m     antideriv \u001b[38;5;241m=\u001b[39m \u001b[38;5;28;43mself\u001b[39;49m\u001b[38;5;241;43m.\u001b[39;49m\u001b[43m_eval_integral\u001b[49m\u001b[43m(\u001b[49m\n\u001b[1;32m    620\u001b[0m \u001b[43m        \u001b[49m\u001b[43mfunction\u001b[49m\u001b[43m,\u001b[49m\u001b[43m \u001b[49m\u001b[43mxab\u001b[49m\u001b[43m[\u001b[49m\u001b[38;5;241;43m0\u001b[39;49m\u001b[43m]\u001b[49m\u001b[43m,\u001b[49m\u001b[43m \u001b[49m\u001b[38;5;241;43m*\u001b[39;49m\u001b[38;5;241;43m*\u001b[39;49m\u001b[43meval_kwargs\u001b[49m\u001b[43m)\u001b[49m\n\u001b[1;32m    621\u001b[0m     \u001b[38;5;28;01mif\u001b[39;00m antideriv \u001b[38;5;129;01mis\u001b[39;00m \u001b[38;5;28;01mNone\u001b[39;00m \u001b[38;5;129;01mand\u001b[39;00m meijerg \u001b[38;5;129;01mis\u001b[39;00m \u001b[38;5;28;01mTrue\u001b[39;00m:\n\u001b[1;32m    622\u001b[0m         ret \u001b[38;5;241m=\u001b[39m try_meijerg(function, xab)\n",
      "File \u001b[0;32m~/Documents/GitHub/flip-disc-display/.venv/lib/python3.10/site-packages/sympy/integrals/integrals.py:1091\u001b[0m, in \u001b[0;36mIntegral._eval_integral\u001b[0;34m(self, f, x, meijerg, risch, manual, heurisch, conds, final)\u001b[0m\n\u001b[1;32m   1089\u001b[0m \u001b[38;5;28;01mtry\u001b[39;00m:\n\u001b[1;32m   1090\u001b[0m     \u001b[38;5;28;01mif\u001b[39;00m conds \u001b[38;5;241m==\u001b[39m \u001b[38;5;124m'\u001b[39m\u001b[38;5;124mpiecewise\u001b[39m\u001b[38;5;124m'\u001b[39m:\n\u001b[0;32m-> 1091\u001b[0m         h \u001b[38;5;241m=\u001b[39m \u001b[43mheurisch_wrapper\u001b[49m\u001b[43m(\u001b[49m\u001b[43mg\u001b[49m\u001b[43m,\u001b[49m\u001b[43m \u001b[49m\u001b[43mx\u001b[49m\u001b[43m,\u001b[49m\u001b[43m \u001b[49m\u001b[43mhints\u001b[49m\u001b[38;5;241;43m=\u001b[39;49m\u001b[43m[\u001b[49m\u001b[43m]\u001b[49m\u001b[43m)\u001b[49m\n\u001b[1;32m   1092\u001b[0m     \u001b[38;5;28;01melse\u001b[39;00m:\n\u001b[1;32m   1093\u001b[0m         h \u001b[38;5;241m=\u001b[39m heurisch_(g, x, hints\u001b[38;5;241m=\u001b[39m[])\n",
      "File \u001b[0;32m~/Documents/GitHub/flip-disc-display/.venv/lib/python3.10/site-packages/sympy/integrals/heurisch.py:144\u001b[0m, in \u001b[0;36mheurisch_wrapper\u001b[0;34m(f, x, rewrite, hints, mappings, retries, degree_offset, unnecessary_permutations, _try_heurisch)\u001b[0m\n\u001b[1;32m    141\u001b[0m \u001b[38;5;28;01mif\u001b[39;00m \u001b[38;5;129;01mnot\u001b[39;00m f\u001b[38;5;241m.\u001b[39mhas_free(x):\n\u001b[1;32m    142\u001b[0m     \u001b[38;5;28;01mreturn\u001b[39;00m f\u001b[38;5;241m*\u001b[39mx\n\u001b[0;32m--> 144\u001b[0m res \u001b[38;5;241m=\u001b[39m \u001b[43mheurisch\u001b[49m\u001b[43m(\u001b[49m\u001b[43mf\u001b[49m\u001b[43m,\u001b[49m\u001b[43m \u001b[49m\u001b[43mx\u001b[49m\u001b[43m,\u001b[49m\u001b[43m \u001b[49m\u001b[43mrewrite\u001b[49m\u001b[43m,\u001b[49m\u001b[43m \u001b[49m\u001b[43mhints\u001b[49m\u001b[43m,\u001b[49m\u001b[43m \u001b[49m\u001b[43mmappings\u001b[49m\u001b[43m,\u001b[49m\u001b[43m \u001b[49m\u001b[43mretries\u001b[49m\u001b[43m,\u001b[49m\u001b[43m \u001b[49m\u001b[43mdegree_offset\u001b[49m\u001b[43m,\u001b[49m\n\u001b[1;32m    145\u001b[0m \u001b[43m               \u001b[49m\u001b[43munnecessary_permutations\u001b[49m\u001b[43m,\u001b[49m\u001b[43m \u001b[49m\u001b[43m_try_heurisch\u001b[49m\u001b[43m)\u001b[49m\n\u001b[1;32m    146\u001b[0m \u001b[38;5;28;01mif\u001b[39;00m \u001b[38;5;129;01mnot\u001b[39;00m \u001b[38;5;28misinstance\u001b[39m(res, Basic):\n\u001b[1;32m    147\u001b[0m     \u001b[38;5;28;01mreturn\u001b[39;00m res\n",
      "File \u001b[0;32m~/Documents/GitHub/flip-disc-display/.venv/lib/python3.10/site-packages/sympy/integrals/heurisch.py:533\u001b[0m, in \u001b[0;36mheurisch\u001b[0;34m(f, x, rewrite, hints, mappings, retries, degree_offset, unnecessary_permutations, _try_heurisch)\u001b[0m\n\u001b[1;32m    531\u001b[0m \u001b[38;5;28;01melse\u001b[39;00m:\n\u001b[1;32m    532\u001b[0m     \u001b[38;5;28;01mif\u001b[39;00m \u001b[38;5;129;01mnot\u001b[39;00m rewrite:\n\u001b[0;32m--> 533\u001b[0m         result \u001b[38;5;241m=\u001b[39m \u001b[43mheurisch\u001b[49m\u001b[43m(\u001b[49m\u001b[43mf\u001b[49m\u001b[43m,\u001b[49m\u001b[43m \u001b[49m\u001b[43mx\u001b[49m\u001b[43m,\u001b[49m\u001b[43m \u001b[49m\u001b[43mrewrite\u001b[49m\u001b[38;5;241;43m=\u001b[39;49m\u001b[38;5;28;43;01mTrue\u001b[39;49;00m\u001b[43m,\u001b[49m\u001b[43m \u001b[49m\u001b[43mhints\u001b[49m\u001b[38;5;241;43m=\u001b[39;49m\u001b[43mhints\u001b[49m\u001b[43m,\u001b[49m\n\u001b[1;32m    534\u001b[0m \u001b[43m            \u001b[49m\u001b[43munnecessary_permutations\u001b[49m\u001b[38;5;241;43m=\u001b[39;49m\u001b[43munnecessary_permutations\u001b[49m\u001b[43m)\u001b[49m\n\u001b[1;32m    536\u001b[0m         \u001b[38;5;28;01mif\u001b[39;00m result \u001b[38;5;129;01mis\u001b[39;00m \u001b[38;5;129;01mnot\u001b[39;00m \u001b[38;5;28;01mNone\u001b[39;00m:\n\u001b[1;32m    537\u001b[0m             \u001b[38;5;28;01mreturn\u001b[39;00m indep\u001b[38;5;241m*\u001b[39mresult\n",
      "File \u001b[0;32m~/Documents/GitHub/flip-disc-display/.venv/lib/python3.10/site-packages/sympy/integrals/heurisch.py:630\u001b[0m, in \u001b[0;36mheurisch\u001b[0;34m(f, x, rewrite, hints, mappings, retries, degree_offset, unnecessary_permutations, _try_heurisch)\u001b[0m\n\u001b[1;32m    628\u001b[0m     monoms \u001b[38;5;241m=\u001b[39m \u001b[38;5;28mtuple\u001b[39m(ordered(itermonomials(V, A \u001b[38;5;241m+\u001b[39m B \u001b[38;5;241m-\u001b[39m \u001b[38;5;241m1\u001b[39m \u001b[38;5;241m+\u001b[39m degree_offset)))\n\u001b[1;32m    629\u001b[0m \u001b[38;5;28;01melse\u001b[39;00m:\n\u001b[0;32m--> 630\u001b[0m     monoms \u001b[38;5;241m=\u001b[39m \u001b[38;5;28;43mtuple\u001b[39;49m\u001b[43m(\u001b[49m\u001b[43mordered\u001b[49m\u001b[43m(\u001b[49m\u001b[43mitermonomials\u001b[49m\u001b[43m(\u001b[49m\u001b[43mV\u001b[49m\u001b[43m,\u001b[49m\u001b[43m \u001b[49m\u001b[43mA\u001b[49m\u001b[43m \u001b[49m\u001b[38;5;241;43m+\u001b[39;49m\u001b[43m \u001b[49m\u001b[43mB\u001b[49m\u001b[43m \u001b[49m\u001b[38;5;241;43m+\u001b[39;49m\u001b[43m \u001b[49m\u001b[43mdegree_offset\u001b[49m\u001b[43m)\u001b[49m\u001b[43m)\u001b[49m\u001b[43m)\u001b[49m\n\u001b[1;32m    632\u001b[0m poly_coeffs \u001b[38;5;241m=\u001b[39m _symbols(\u001b[38;5;124m'\u001b[39m\u001b[38;5;124mA\u001b[39m\u001b[38;5;124m'\u001b[39m, \u001b[38;5;28mlen\u001b[39m(monoms))\n\u001b[1;32m    634\u001b[0m poly_part \u001b[38;5;241m=\u001b[39m Add(\u001b[38;5;241m*\u001b[39m[ poly_coeffs[i]\u001b[38;5;241m*\u001b[39mmonomial\n\u001b[1;32m    635\u001b[0m     \u001b[38;5;28;01mfor\u001b[39;00m i, monomial \u001b[38;5;129;01min\u001b[39;00m \u001b[38;5;28menumerate\u001b[39m(monoms) ])\n",
      "File \u001b[0;32m~/Documents/GitHub/flip-disc-display/.venv/lib/python3.10/site-packages/sympy/core/sorting.py:298\u001b[0m, in \u001b[0;36mordered\u001b[0;34m(seq, keys, default, warn)\u001b[0m\n\u001b[1;32m    296\u001b[0m     \u001b[38;5;28;01mif\u001b[39;00m \u001b[38;5;129;01mnot\u001b[39;00m default:\n\u001b[1;32m    297\u001b[0m         \u001b[38;5;28;01mraise\u001b[39;00m \u001b[38;5;167;01mValueError\u001b[39;00m(\u001b[38;5;124m'\u001b[39m\u001b[38;5;124mif default=False then keys must be provided\u001b[39m\u001b[38;5;124m'\u001b[39m)\n\u001b[0;32m--> 298\u001b[0m     \u001b[43md\u001b[49m\u001b[43m[\u001b[49m\u001b[38;5;28;43;01mNone\u001b[39;49;00m\u001b[43m]\u001b[49m\u001b[38;5;241;43m.\u001b[39;49m\u001b[43mextend\u001b[49m\u001b[43m(\u001b[49m\u001b[43mseq\u001b[49m\u001b[43m)\u001b[49m\n\u001b[1;32m    300\u001b[0m \u001b[38;5;28;01mfor\u001b[39;00m k, value \u001b[38;5;129;01min\u001b[39;00m \u001b[38;5;28msorted\u001b[39m(d\u001b[38;5;241m.\u001b[39mitems()):\n\u001b[1;32m    301\u001b[0m     \u001b[38;5;28;01mif\u001b[39;00m \u001b[38;5;28mlen\u001b[39m(value) \u001b[38;5;241m>\u001b[39m \u001b[38;5;241m1\u001b[39m:\n",
      "File \u001b[0;32m~/Documents/GitHub/flip-disc-display/.venv/lib/python3.10/site-packages/sympy/polys/monomials.py:128\u001b[0m, in \u001b[0;36mitermonomials\u001b[0;34m(variables, max_degrees, min_degrees)\u001b[0m\n\u001b[1;32m    126\u001b[0m                 powers[variable] \u001b[38;5;241m+\u001b[39m\u001b[38;5;241m=\u001b[39m \u001b[38;5;241m1\u001b[39m\n\u001b[1;32m    127\u001b[0m         \u001b[38;5;28;01mif\u001b[39;00m \u001b[38;5;28msum\u001b[39m(powers\u001b[38;5;241m.\u001b[39mvalues()) \u001b[38;5;241m>\u001b[39m\u001b[38;5;241m=\u001b[39m min_degree:\n\u001b[0;32m--> 128\u001b[0m             monomials_list_comm\u001b[38;5;241m.\u001b[39mappend(\u001b[43mMul\u001b[49m\u001b[43m(\u001b[49m\u001b[38;5;241;43m*\u001b[39;49m\u001b[43mitem\u001b[49m\u001b[43m)\u001b[49m)\n\u001b[1;32m    129\u001b[0m     \u001b[38;5;28;01myield from\u001b[39;00m \u001b[38;5;28mset\u001b[39m(monomials_list_comm)\n\u001b[1;32m    130\u001b[0m \u001b[38;5;28;01melse\u001b[39;00m:\n",
      "File \u001b[0;32m~/Documents/GitHub/flip-disc-display/.venv/lib/python3.10/site-packages/sympy/core/cache.py:72\u001b[0m, in \u001b[0;36m__cacheit.<locals>.func_wrapper.<locals>.wrapper\u001b[0;34m(*args, **kwargs)\u001b[0m\n\u001b[1;32m     69\u001b[0m \u001b[38;5;129m@wraps\u001b[39m(func)\n\u001b[1;32m     70\u001b[0m \u001b[38;5;28;01mdef\u001b[39;00m \u001b[38;5;21mwrapper\u001b[39m(\u001b[38;5;241m*\u001b[39margs, \u001b[38;5;241m*\u001b[39m\u001b[38;5;241m*\u001b[39mkwargs):\n\u001b[1;32m     71\u001b[0m     \u001b[38;5;28;01mtry\u001b[39;00m:\n\u001b[0;32m---> 72\u001b[0m         retval \u001b[38;5;241m=\u001b[39m \u001b[43mcfunc\u001b[49m\u001b[43m(\u001b[49m\u001b[38;5;241;43m*\u001b[39;49m\u001b[43margs\u001b[49m\u001b[43m,\u001b[49m\u001b[43m \u001b[49m\u001b[38;5;241;43m*\u001b[39;49m\u001b[38;5;241;43m*\u001b[39;49m\u001b[43mkwargs\u001b[49m\u001b[43m)\u001b[49m\n\u001b[1;32m     73\u001b[0m     \u001b[38;5;28;01mexcept\u001b[39;00m \u001b[38;5;167;01mTypeError\u001b[39;00m \u001b[38;5;28;01mas\u001b[39;00m e:\n\u001b[1;32m     74\u001b[0m         \u001b[38;5;28;01mif\u001b[39;00m \u001b[38;5;129;01mnot\u001b[39;00m e\u001b[38;5;241m.\u001b[39margs \u001b[38;5;129;01mor\u001b[39;00m \u001b[38;5;129;01mnot\u001b[39;00m e\u001b[38;5;241m.\u001b[39margs[\u001b[38;5;241m0\u001b[39m]\u001b[38;5;241m.\u001b[39mstartswith(\u001b[38;5;124m'\u001b[39m\u001b[38;5;124munhashable type:\u001b[39m\u001b[38;5;124m'\u001b[39m):\n",
      "File \u001b[0;32m~/Documents/GitHub/flip-disc-display/.venv/lib/python3.10/site-packages/sympy/core/operations.py:98\u001b[0m, in \u001b[0;36mAssocOp.__new__\u001b[0;34m(cls, evaluate, _sympify, *args)\u001b[0m\n\u001b[1;32m     95\u001b[0m \u001b[38;5;28;01mif\u001b[39;00m \u001b[38;5;28mlen\u001b[39m(args) \u001b[38;5;241m==\u001b[39m \u001b[38;5;241m1\u001b[39m:\n\u001b[1;32m     96\u001b[0m     \u001b[38;5;28;01mreturn\u001b[39;00m args[\u001b[38;5;241m0\u001b[39m]\n\u001b[0;32m---> 98\u001b[0m c_part, nc_part, order_symbols \u001b[38;5;241m=\u001b[39m \u001b[38;5;28;43mcls\u001b[39;49m\u001b[38;5;241;43m.\u001b[39;49m\u001b[43mflatten\u001b[49m\u001b[43m(\u001b[49m\u001b[43margs\u001b[49m\u001b[43m)\u001b[49m\n\u001b[1;32m     99\u001b[0m is_commutative \u001b[38;5;241m=\u001b[39m \u001b[38;5;129;01mnot\u001b[39;00m nc_part\n\u001b[1;32m    100\u001b[0m obj \u001b[38;5;241m=\u001b[39m \u001b[38;5;28mcls\u001b[39m\u001b[38;5;241m.\u001b[39m_from_args(c_part \u001b[38;5;241m+\u001b[39m nc_part, is_commutative)\n",
      "File \u001b[0;32m~/Documents/GitHub/flip-disc-display/.venv/lib/python3.10/site-packages/sympy/core/mul.py:711\u001b[0m, in \u001b[0;36mMul.flatten\u001b[0;34m(cls, seq)\u001b[0m\n\u001b[1;32m    708\u001b[0m     c_part\u001b[38;5;241m.\u001b[39minsert(\u001b[38;5;241m0\u001b[39m, coeff)\n\u001b[1;32m    710\u001b[0m \u001b[38;5;66;03m# we are done\u001b[39;00m\n\u001b[0;32m--> 711\u001b[0m \u001b[38;5;28;01mif\u001b[39;00m (global_parameters\u001b[38;5;241m.\u001b[39mdistribute \u001b[38;5;129;01mand\u001b[39;00m \u001b[38;5;129;01mnot\u001b[39;00m nc_part \u001b[38;5;129;01mand\u001b[39;00m \u001b[38;5;28;43mlen\u001b[39;49m\u001b[43m(\u001b[49m\u001b[43mc_part\u001b[49m\u001b[43m)\u001b[49m \u001b[38;5;241m==\u001b[39m \u001b[38;5;241m2\u001b[39m \u001b[38;5;129;01mand\u001b[39;00m\n\u001b[1;32m    712\u001b[0m         c_part[\u001b[38;5;241m0\u001b[39m]\u001b[38;5;241m.\u001b[39mis_Number \u001b[38;5;129;01mand\u001b[39;00m c_part[\u001b[38;5;241m0\u001b[39m]\u001b[38;5;241m.\u001b[39mis_finite \u001b[38;5;129;01mand\u001b[39;00m c_part[\u001b[38;5;241m1\u001b[39m]\u001b[38;5;241m.\u001b[39mis_Add):\n\u001b[1;32m    713\u001b[0m     \u001b[38;5;66;03m# 2*(1+a) -> 2 + 2 * a\u001b[39;00m\n\u001b[1;32m    714\u001b[0m     coeff \u001b[38;5;241m=\u001b[39m c_part[\u001b[38;5;241m0\u001b[39m]\n\u001b[1;32m    715\u001b[0m     c_part \u001b[38;5;241m=\u001b[39m [Add(\u001b[38;5;241m*\u001b[39m[coeff\u001b[38;5;241m*\u001b[39mf \u001b[38;5;28;01mfor\u001b[39;00m f \u001b[38;5;129;01min\u001b[39;00m c_part[\u001b[38;5;241m1\u001b[39m]\u001b[38;5;241m.\u001b[39margs])]\n",
      "\u001b[0;31mKeyboardInterrupt\u001b[0m: "
     ]
    }
   ],
   "source": [
    "# Magnetic moment of the dipole, as a vector\n",
    "mu = - dipole_moment_magnitude * C.k\n",
    "delop = vec.Del()\n",
    "\n",
    "F_dipole = mu.dot(delop)(B_point)\n",
    "\n",
    "# Display the dipole force expression\n",
    "F_dipole.simplify()"
   ]
  },
  {
   "cell_type": "markdown",
   "metadata": {},
   "source": [
    "### Use Superposition to Sum the Force"
   ]
  },
  {
   "cell_type": "code",
   "execution_count": 471,
   "metadata": {},
   "outputs": [
    {
     "data": {
      "text/latex": [
       "$\\displaystyle \\left(0.005198\\right)\\mathbf{\\hat{k}_{C}} + \\left(0.002097\\right)\\mathbf{\\hat{r}_{C}}$"
      ],
      "text/plain": [
       "0.002097*C.r + 0.005198*C.k"
      ]
     },
     "execution_count": 471,
     "metadata": {},
     "output_type": "execute_result"
    }
   ],
   "source": [
    "i, j = sym.symbols('i j', cls=sym.Idx)\n",
    "M, N = sym.symbols('M N', integer=True, positive=True)\n",
    "F_indexed = F_dipole.subs({ z_0: wire_radius * i, D: solenoid_radius + wire_radius * j })\n",
    "# Where N is the number of turns per level and M is the number of levels\n",
    "F_sum = sym.Sum(sym.Sum(F_indexed, (j, 0, N)), (i, 0, M))\n",
    "\n",
    "Z_vals = [wire_radius * i for i in range(number_of_levels)]\n",
    "R_vals = [solenoid_radius + wire_radius * j for j in range(turns_per_level)]\n",
    "\n",
    "F_total = F_sum.subs({\n",
    "    N: turns_per_level - 1,\n",
    "    M: number_of_levels - 1,\n",
    "    I: amperage,\n",
    "    C.R: dipole_x,\n",
    "    C.K: dipole_z,\n",
    "}).doit()\n",
    "\n",
    "(20*F_total).evalf(4)"
   ]
  },
  {
   "cell_type": "markdown",
   "metadata": {},
   "source": [
    "# Torque Acting on a Dipole"
   ]
  },
  {
   "cell_type": "code",
   "execution_count": 475,
   "metadata": {},
   "outputs": [
    {
     "data": {
      "text/latex": [
       "$\\displaystyle \\left(- 1.68000000091455 \\cdot 10^{-9} D I \\left(\\mathbf{{K}_{C}} + z_{0}\\right) \\int\\limits_{0}^{6.28318530717959} \\left(\\mathbf{{R}_{C}}^{2} - 2 \\mathbf{{R}_{C}} D \\cos{\\left(\\theta \\right)} + D^{2} + \\left(\\mathbf{{K}_{C}} + z_{0}\\right)^{2}\\right)^{-1.5}\\, d\\theta\\right)\\mathbf{\\hat{t}_{C}}$"
      ],
      "text/plain": [
       "(-1.68000000091455e-9*D*I*(C.K + z_0)*Integral((C.R**2 - 2*C.R*D*cos(theta) + D**2 + (C.K + z_0)**2)**(-1.5), (theta, 0, 6.28318530717959)))*C.t"
      ]
     },
     "execution_count": 475,
     "metadata": {},
     "output_type": "execute_result"
    }
   ],
   "source": [
    "T_dipole = mu.cross(B_point)\n",
    "\n",
    "# Display the dipole force expression\n",
    "T_dipole.simplify()"
   ]
  },
  {
   "cell_type": "markdown",
   "metadata": {},
   "source": [
    "### Use Superposition to Sum the Force"
   ]
  },
  {
   "cell_type": "code",
   "execution_count": 479,
   "metadata": {},
   "outputs": [
    {
     "data": {
      "text/latex": [
       "$\\displaystyle \\left(-2.664 \\cdot 10^{-5}\\right)\\mathbf{\\hat{t}_{C}}$"
      ],
      "text/plain": [
       "(-2.664e-5)*C.t"
      ]
     },
     "execution_count": 479,
     "metadata": {},
     "output_type": "execute_result"
    }
   ],
   "source": [
    "i, j = sym.symbols('i j', cls=sym.Idx)\n",
    "M, N = sym.symbols('M N', integer=True, positive=True)\n",
    "T_indexed = T_dipole.subs({ z_0: wire_radius * i, D: solenoid_radius + wire_radius * j })\n",
    "# Where N is the number of turns per level and M is the number of levels\n",
    "T_sum = sym.Sum(sym.Sum(T_indexed, (j, 0, N)), (i, 0, M))\n",
    "\n",
    "Z_vals = [wire_radius * i for i in range(number_of_levels)]\n",
    "R_vals = [solenoid_radius + wire_radius * j for j in range(turns_per_level)]\n",
    "\n",
    "T_total = T_sum.subs({\n",
    "    N: turns_per_level - 1,\n",
    "    M: number_of_levels - 1,\n",
    "    I: amperage,\n",
    "    C.R: dipole_x,\n",
    "    C.K: dipole_z,\n",
    "}).doit()\n",
    "\n",
    "(20*T_total).evalf(4)"
   ]
  }
 ],
 "metadata": {
  "kernelspec": {
   "display_name": ".venv",
   "language": "python",
   "name": "python3"
  },
  "language_info": {
   "codemirror_mode": {
    "name": "ipython",
    "version": 3
   },
   "file_extension": ".py",
   "mimetype": "text/x-python",
   "name": "python",
   "nbconvert_exporter": "python",
   "pygments_lexer": "ipython3",
   "version": "3.10.8"
  }
 },
 "nbformat": 4,
 "nbformat_minor": 2
}
