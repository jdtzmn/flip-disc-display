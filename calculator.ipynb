{
 "cells": [
  {
   "cell_type": "markdown",
   "metadata": {},
   "source": [
    "# Force Calculator\n",
    "\n",
    "Given a set of parameters, this notebook calculates the required amperage in the wire to flip the magnet.\n",
    "\n",
    "The following contains a diagram of the setup.\n",
    "\n",
    "![setup diagram](diagrams/setup.png)"
   ]
  },
  {
   "cell_type": "markdown",
   "metadata": {},
   "source": [
    "## Imports"
   ]
  },
  {
   "cell_type": "code",
   "execution_count": 4,
   "metadata": {},
   "outputs": [],
   "source": [
    "import sympy as sym\n",
    "from sympy.vector import CoordSys3D\n",
    "from scipy import constants"
   ]
  },
  {
   "cell_type": "markdown",
   "metadata": {},
   "source": [
    "## Parameters"
   ]
  },
  {
   "cell_type": "code",
   "execution_count": 5,
   "metadata": {},
   "outputs": [],
   "source": [
    "### Parameters\n",
    "\n",
    "# Solenoid Parameters\n",
    "wire_radius = 0.001 # m\n",
    "number_of_turns = 100\n",
    "turns_per_level = 1 # how many coils are at the same level\n",
    "\n",
    "# Dipole Position Parameters\n",
    "dipole_z = 0.1 # m\n",
    "dipole_x = 0 # m, in the direction of r_hat where x = 0 is the center of the solenoid\n",
    "\n",
    "# Dipole Properties\n",
    "dipole_moment_magnitude = 0.0168 # A m^2. Use https://www.kjmagnetics.com/calculator.asp to calculate this."
   ]
  },
  {
   "cell_type": "markdown",
   "metadata": {},
   "source": [
    "## Magnetic Field Equation"
   ]
  },
  {
   "cell_type": "code",
   "execution_count": 29,
   "metadata": {},
   "outputs": [],
   "source": [
    "C = CoordSys3D('C', transformation='cylindrical', vector_names=list('rtk'), variable_names=list('RTK'))\n",
    "\n",
    "(\n",
    "D, # Radius of the solenoid\n",
    "r_0, # Distance along theta = 0 from the center of the solenoid\n",
    "z_0, # Distance along z from the center of the solenoid\n",
    "theta, # Angle from the center of the solenoid\n",
    "pi, # Pi\n",
    "mu_0, # Permeability of free space\n",
    ") = sym.symbols('D r_0 z_0 theta pi mu_0', real=True, positive=True)\n",
    "\n",
    "I = sym.symbols('I', real=True) # Current in the solenoid\n",
    "\n",
    "# Magnetic field of a solenoid\n",
    "B_original = mu_0*I*D / (4 * pi) * sym.integrate((z_0 * C.r + (D - r_0) * C.k) / (D**2 - 2*r_0*D*sym.cos(theta) + r_0**2 + z_0**2)**(3/2), (theta, 0, 2*pi))\n",
    "B_point = B_original.subs({ mu_0: constants.mu_0, pi: constants.pi })"
   ]
  },
  {
   "cell_type": "markdown",
   "metadata": {},
   "source": [
    "Testing..."
   ]
  },
  {
   "cell_type": "code",
   "execution_count": 31,
   "metadata": {},
   "outputs": [
    {
     "data": {
      "text/latex": [
       "$\\displaystyle \\left(6.2831853106 \\cdot 10^{-7}\\right)\\mathbf{\\hat{k}_{C}}$"
      ],
      "text/plain": [
       "(6.2831853106e-7)*C.k"
      ]
     },
     "execution_count": 31,
     "metadata": {},
     "output_type": "execute_result"
    }
   ],
   "source": [
    "# Compare to the answer 6.2831 * 10^-7 k_hat\n",
    "B_point.subs({ r_0: 0, z_0: 0, D: 1, I: 1 }).simplify()"
   ]
  }
 ],
 "metadata": {
  "kernelspec": {
   "display_name": ".venv",
   "language": "python",
   "name": "python3"
  },
  "language_info": {
   "codemirror_mode": {
    "name": "ipython",
    "version": 3
   },
   "file_extension": ".py",
   "mimetype": "text/x-python",
   "name": "python",
   "nbconvert_exporter": "python",
   "pygments_lexer": "ipython3",
   "version": "3.10.8"
  }
 },
 "nbformat": 4,
 "nbformat_minor": 2
}
