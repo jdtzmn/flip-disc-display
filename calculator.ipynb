{
 "cells": [
  {
   "cell_type": "markdown",
   "metadata": {},
   "source": [
    "# Force Calculator\n",
    "\n",
    "Given a set of parameters, this notebook calculates the required amperage in the wire to flip the magnet.\n",
    "\n",
    "The following contains a diagram of the setup.\n",
    "\n",
    "![setup diagram](diagrams/setup.png)"
   ]
  },
  {
   "cell_type": "markdown",
   "metadata": {},
   "source": [
    "## Imports"
   ]
  },
  {
   "cell_type": "code",
   "execution_count": 325,
   "metadata": {},
   "outputs": [],
   "source": [
    "from collections import ChainMap\n",
    "import sympy as sym\n",
    "import sympy.vector as vec\n",
    "from scipy import constants"
   ]
  },
  {
   "cell_type": "markdown",
   "metadata": {},
   "source": [
    "## Parameters"
   ]
  },
  {
   "cell_type": "markdown",
   "metadata": {},
   "source": [
    "### Parameters"
   ]
  },
  {
   "cell_type": "code",
   "execution_count": 469,
   "metadata": {},
   "outputs": [],
   "source": [
    "# Solenoid Parameters\n",
    "solenoid_radius = 0.007 # m\n",
    "wire_radius = 0.000792 # m\n",
    "number_of_levels = 1\n",
    "turns_per_level = 1 # how many coils are at the same level\n",
    "amperage = 2 # A, max is 5A for wire and 0.012A for esp32, usb-c min is 3A\n",
    "\n",
    "# Dipole Position Parameters\n",
    "dipole_z = 0.005 # m\n",
    "dipole_x = 0.007/2 # m, in the direction of r_hat where x = 0 is the center of the solenoid\n",
    "\n",
    "# Dipole Properties\n",
    "dipole_moment_magnitude = 0.0168 # A m^2. Use https://www.kjmagnetics.com/calculator.asp to calculate this."
   ]
  },
  {
   "cell_type": "markdown",
   "metadata": {},
   "source": [
    "## Magnetic Field Equation"
   ]
  },
  {
   "cell_type": "code",
   "execution_count": 327,
   "metadata": {},
   "outputs": [
    {
     "data": {
      "text/latex": [
       "$\\displaystyle \\left(1.00000000054438 \\cdot 10^{-7} D I \\left(- \\mathbf{{R}_{C}} + D\\right) \\int\\limits_{0}^{6.28318530717959} \\left(\\mathbf{{R}_{C}}^{2} - 2 \\mathbf{{R}_{C}} D \\cos{\\left(\\theta \\right)} + D^{2} + \\left(\\mathbf{{K}_{C}} + z_{0}\\right)^{2}\\right)^{-1.5}\\, d\\theta\\right)\\mathbf{\\hat{k}_{C}} + \\left(1.00000000054438 \\cdot 10^{-7} D I \\left(\\mathbf{{K}_{C}} + z_{0}\\right) \\int\\limits_{0}^{6.28318530717959} \\left(\\mathbf{{R}_{C}}^{2} - 2 \\mathbf{{R}_{C}} D \\cos{\\left(\\theta \\right)} + D^{2} + \\left(\\mathbf{{K}_{C}} + z_{0}\\right)^{2}\\right)^{-1.5}\\, d\\theta\\right)\\mathbf{\\hat{r}_{C}}$"
      ],
      "text/plain": [
       "(1.00000000054438e-7*D*I*(C.K + z_0)*Integral((C.R**2 - 2*C.R*D*cos(theta) + D**2 + (C.K + z_0)**2)**(-1.5), (theta, 0, 6.28318530717959)))*C.r + (1.00000000054438e-7*D*I*(-C.R + D)*Integral((C.R**2 - 2*C.R*D*cos(theta) + D**2 + (C.K + z_0)**2)**(-1.5), (theta, 0, 6.28318530717959)))*C.k"
      ]
     },
     "execution_count": 327,
     "metadata": {},
     "output_type": "execute_result"
    }
   ],
   "source": [
    "C = vec.CoordSys3D('C', transformation='cylindrical', vector_names=list('rtk'), variable_names=list('RTK'))\n",
    "\n",
    "(\n",
    "D, # Radius of the solenoid\n",
    "r_0, # Distance along theta = 0 from the center of the solenoid\n",
    "z_0, # Distance along z from the center of the solenoid\n",
    "theta, # Angle from the center of the solenoid\n",
    "pi, # Pi\n",
    "mu_0, # Permeability of free space\n",
    ") = sym.symbols('D r_0 z_0 theta pi mu_0', real=True, positive=True)\n",
    "\n",
    "I = sym.symbols('I', real=True) # Current in the solenoid\n",
    "\n",
    "# Magnetic field of a solenoid\n",
    "B_original = mu_0*I*D / (4 * pi) * sym.integrate((z_0 * C.r + (D - r_0) * C.k) / (D**2 - 2*r_0*D*sym.cos(theta) + r_0**2 + z_0**2)**(3/2), (theta, 0, 2*pi))\n",
    "B_point = B_original.subs({ mu_0: constants.mu_0, pi: constants.pi }).subs({\n",
    "    r_0: C.R,\n",
    "    z_0: C.K + z_0,\n",
    "})\n",
    "\n",
    "# Print the magnetic field\n",
    "B_point.simplify()"
   ]
  },
  {
   "cell_type": "markdown",
   "metadata": {},
   "source": [
    "Testing..."
   ]
  },
  {
   "cell_type": "code",
   "execution_count": 410,
   "metadata": {},
   "outputs": [
    {
     "name": "stdout",
     "output_type": "stream",
     "text": [
      "(6.2831853106e-7)*C.k\n",
      "(5.61985178789189e-6)*C.r + (1.12397035757838e-5)*C.k\n"
     ]
    }
   ],
   "source": [
    "# Compare to the answer 6.2831 * 10^-7 k_hat\n",
    "print(B_point.subs({ C.R: 0, C.K: 0, D: 1, I: 1, z_0: 0 }).simplify())\n",
    "\n",
    "\n",
    "print(B_point.subs({ C.R: dipole_x, C.K: dipole_z, D: solenoid_radius, I: amperage, z_0: 0 }).simplify())"
   ]
  },
  {
   "cell_type": "markdown",
   "metadata": {},
   "source": [
    "## Force Acting on Dipole"
   ]
  },
  {
   "cell_type": "code",
   "execution_count": 427,
   "metadata": {},
   "outputs": [
    {
     "data": {
      "text/latex": [
       "$\\displaystyle \\left(- 5.04000000274365 \\cdot 10^{-9} D I \\left(\\mathbf{{K}_{C}} + z_{0}\\right) \\left(\\mathbf{{R}_{C}} - D\\right) \\int\\limits_{0}^{6.28318530717959} \\left(\\mathbf{{R}_{C}}^{2} - 2 \\mathbf{{R}_{C}} D \\cos{\\left(\\theta \\right)} + D^{2} + \\left(\\mathbf{{K}_{C}} + z_{0}\\right)^{2}\\right)^{-2.5}\\, d\\theta\\right)\\mathbf{\\hat{k}_{C}} + \\left(- 1.00800000054873 \\cdot 10^{-8} D I \\left(1.0 \\int\\limits_{0}^{6.28318530717959} \\left(- \\frac{0.5 \\mathbf{{K}_{C}}^{2}}{\\left(\\mathbf{{K}_{C}}^{2} + 2 \\mathbf{{K}_{C}} z_{0} + \\mathbf{{R}_{C}}^{2} - 2 \\mathbf{{R}_{C}} D \\cos{\\left(\\theta \\right)} + D^{2} + z_{0}^{2}\\right)^{2.5}}\\right)\\, d\\theta + 1.0 \\int\\limits_{0}^{6.28318530717959} \\left(- \\frac{0.5 z_{0}^{2}}{\\left(\\mathbf{{K}_{C}}^{2} + 2 \\mathbf{{K}_{C}} z_{0} + \\mathbf{{R}_{C}}^{2} - 2 \\mathbf{{R}_{C}} D \\cos{\\left(\\theta \\right)} + D^{2} + z_{0}^{2}\\right)^{2.5}}\\right)\\, d\\theta + 1.0 \\int\\limits_{0}^{6.28318530717959} \\left(- \\frac{1.0 \\mathbf{{K}_{C}} z_{0}}{\\left(\\mathbf{{K}_{C}}^{2} + 2 \\mathbf{{K}_{C}} z_{0} + \\mathbf{{R}_{C}}^{2} - 2 \\mathbf{{R}_{C}} D \\cos{\\left(\\theta \\right)} + D^{2} + z_{0}^{2}\\right)^{2.5}}\\right)\\, d\\theta + 1.0 \\int\\limits_{0}^{6.28318530717959} \\frac{0.166666666666667}{\\left(\\mathbf{{K}_{C}}^{2} + 2 \\mathbf{{K}_{C}} z_{0} + \\mathbf{{R}_{C}}^{2} - 2 \\mathbf{{R}_{C}} D \\cos{\\left(\\theta \\right)} + D^{2} + z_{0}^{2}\\right)^{1.5}}\\, d\\theta\\right)\\right)\\mathbf{\\hat{r}_{C}}$"
      ],
      "text/plain": [
       "(-1.00800000054873e-8*D*I*(1.0*Integral(-0.5*C.K**2/(C.K**2 + 2*C.K*z_0 + C.R**2 - 2*C.R*D*cos(theta) + D**2 + z_0**2)**2.5, (theta, 0, 6.28318530717959)) + 1.0*Integral(-0.5*z_0**2/(C.K**2 + 2*C.K*z_0 + C.R**2 - 2*C.R*D*cos(theta) + D**2 + z_0**2)**2.5, (theta, 0, 6.28318530717959)) + 1.0*Integral(-1.0*C.K*z_0/(C.K**2 + 2*C.K*z_0 + C.R**2 - 2*C.R*D*cos(theta) + D**2 + z_0**2)**2.5, (theta, 0, 6.28318530717959)) + 1.0*Integral(0.166666666666667/(C.K**2 + 2*C.K*z_0 + C.R**2 - 2*C.R*D*cos(theta) + D**2 + z_0**2)**1.5, (theta, 0, 6.28318530717959))))*C.r + (-5.04000000274365e-9*D*I*(C.K + z_0)*(C.R - D)*Integral((C.R**2 - 2*C.R*D*cos(theta) + D**2 + (C.K + z_0)**2)**(-2.5), (theta, 0, 6.28318530717959)))*C.k"
      ]
     },
     "execution_count": 427,
     "metadata": {},
     "output_type": "execute_result"
    }
   ],
   "source": [
    "# Magnetic moment of the dipole, as a vector\n",
    "mu = - dipole_moment_magnitude * C.k\n",
    "delop = vec.Del()\n",
    "\n",
    "# Convert B to a Vector type\n",
    "F_dipole = mu.dot(delop)(B_point)\n",
    "\n",
    "# Display the dipole force expression\n",
    "F_dipole.simplify()"
   ]
  },
  {
   "cell_type": "markdown",
   "metadata": {},
   "source": [
    "### Use Superposition to Sum the Force"
   ]
  },
  {
   "cell_type": "code",
   "execution_count": 471,
   "metadata": {},
   "outputs": [
    {
     "data": {
      "text/latex": [
       "$\\displaystyle \\left(0.005198\\right)\\mathbf{\\hat{k}_{C}} + \\left(0.002097\\right)\\mathbf{\\hat{r}_{C}}$"
      ],
      "text/plain": [
       "0.002097*C.r + 0.005198*C.k"
      ]
     },
     "execution_count": 471,
     "metadata": {},
     "output_type": "execute_result"
    }
   ],
   "source": [
    "i, j = sym.symbols('i j', cls=sym.Idx)\n",
    "M, N = sym.symbols('M N', integer=True, positive=True)\n",
    "F_indexed = F_dipole.subs({ z_0: wire_radius * i, D: solenoid_radius + wire_radius * j })\n",
    "# Where N is the number of turns per level and M is the number of levels\n",
    "F_sum = sym.Sum(sym.Sum(F_indexed, (j, 0, N)), (i, 0, M))\n",
    "\n",
    "Z_vals = [wire_radius * i for i in range(number_of_levels)]\n",
    "R_vals = [solenoid_radius + wire_radius * j for j in range(turns_per_level)]\n",
    "\n",
    "F_total = F_sum.subs({\n",
    "    N: turns_per_level - 1,\n",
    "    M: number_of_levels - 1,\n",
    "    I: amperage,\n",
    "    C.R: dipole_x,\n",
    "    C.K: dipole_z,\n",
    "}).doit()\n",
    "\n",
    "(20*F_total).evalf(4)"
   ]
  }
 ],
 "metadata": {
  "kernelspec": {
   "display_name": ".venv",
   "language": "python",
   "name": "python3"
  },
  "language_info": {
   "codemirror_mode": {
    "name": "ipython",
    "version": 3
   },
   "file_extension": ".py",
   "mimetype": "text/x-python",
   "name": "python",
   "nbconvert_exporter": "python",
   "pygments_lexer": "ipython3",
   "version": "3.10.8"
  }
 },
 "nbformat": 4,
 "nbformat_minor": 2
}
