{
 "cells": [
  {
   "cell_type": "markdown",
   "metadata": {},
   "source": [
    "# Force Calculator\n",
    "\n",
    "Given a set of parameters, this notebook calculates the required amperage in the wire to flip the magnet.\n",
    "\n",
    "The following contains a diagram of the setup.\n",
    "\n",
    "![setup diagram](diagrams/setup.png)"
   ]
  },
  {
   "cell_type": "markdown",
   "metadata": {},
   "source": [
    "## Imports"
   ]
  },
  {
   "cell_type": "code",
   "execution_count": 145,
   "metadata": {},
   "outputs": [],
   "source": [
    "from collections import ChainMap\n",
    "import sympy as sym\n",
    "import sympy.vector as vec\n",
    "from scipy import constants"
   ]
  },
  {
   "cell_type": "markdown",
   "metadata": {},
   "source": [
    "## Parameters"
   ]
  },
  {
   "cell_type": "markdown",
   "metadata": {},
   "source": [
    "### Parameters"
   ]
  },
  {
   "cell_type": "code",
   "execution_count": 299,
   "metadata": {},
   "outputs": [],
   "source": [
    "# Solenoid Parameters\n",
    "solenoid_radius = 0.02 # m\n",
    "wire_radius = 0.000792 # m\n",
    "number_of_levels = 1\n",
    "turns_per_level = 1 # how many coils are at the same level\n",
    "amperage = 0.04 # A, max is 5A\n",
    "\n",
    "# Dipole Position Parameters\n",
    "dipole_z = 0.001 # m\n",
    "dipole_x = 0 # m, in the direction of r_hat where x = 0 is the center of the solenoid\n",
    "\n",
    "# Dipole Properties\n",
    "dipole_moment_magnitude = 0.0168 # A m^2. Use https://www.kjmagnetics.com/calculator.asp to calculate this."
   ]
  },
  {
   "cell_type": "markdown",
   "metadata": {},
   "source": [
    "## Magnetic Field Equation"
   ]
  },
  {
   "cell_type": "code",
   "execution_count": 88,
   "metadata": {},
   "outputs": [],
   "source": [
    "C = vec.CoordSys3D('C', transformation='cylindrical', vector_names=list('rtk'), variable_names=list('RTK'))\n",
    "\n",
    "(\n",
    "D, # Radius of the solenoid\n",
    "r_0, # Distance along theta = 0 from the center of the solenoid\n",
    "z_0, # Distance along z from the center of the solenoid\n",
    "theta, # Angle from the center of the solenoid\n",
    "pi, # Pi\n",
    "mu_0, # Permeability of free space\n",
    ") = sym.symbols('D r_0 z_0 theta pi mu_0', real=True, positive=True)\n",
    "\n",
    "I = sym.symbols('I', real=True) # Current in the solenoid\n",
    "\n",
    "# Magnetic field of a solenoid\n",
    "B_original = mu_0*I*D / (4 * pi) * sym.integrate((z_0 * C.r + (D - r_0) * C.k) / (D**2 - 2*r_0*D*sym.cos(theta) + r_0**2 + z_0**2)**(3/2), (theta, 0, 2*pi))\n",
    "B_point = B_original.subs({ mu_0: constants.mu_0, pi: constants.pi })"
   ]
  },
  {
   "cell_type": "markdown",
   "metadata": {},
   "source": [
    "Testing..."
   ]
  },
  {
   "cell_type": "code",
   "execution_count": 281,
   "metadata": {},
   "outputs": [
    {
     "data": {
      "text/latex": [
       "$\\displaystyle \\left(0.0062831853106\\right)\\mathbf{\\hat{k}_{C}}$"
      ],
      "text/plain": [
       "0.0062831853106*C.k"
      ]
     },
     "execution_count": 281,
     "metadata": {},
     "output_type": "execute_result"
    }
   ],
   "source": [
    "# Compare to the answer 6.2831 * 10^-7 k_hat\n",
    "B_point.subs({ r_0: 0, z_0: 0, D: 0.001, I: 10 }).simplify()"
   ]
  },
  {
   "cell_type": "markdown",
   "metadata": {},
   "source": [
    "Check whether we can estimate distance"
   ]
  },
  {
   "cell_type": "code",
   "execution_count": 290,
   "metadata": {},
   "outputs": [
    {
     "name": "stdout",
     "output_type": "stream",
     "text": [
      "0.000104719755176667\n",
      "0.000102026261863471\n",
      "1.41331602490524e-5\n"
     ]
    }
   ],
   "source": [
    "print(B_point.subs({ r_0: 0, z_0: 0, D: 0.03, I: 5 }).simplify().magnitude())\n",
    "print(B_point.subs({ r_0: 0, z_0: 0, D: 0.03+0.000792, I: 5 }).simplify().magnitude())\n",
    "print(B_point.subs({ r_0: 0, z_0: 100*0.000792, D: 0.03+4*0.000792, I: 5 }).simplify().magnitude())"
   ]
  },
  {
   "cell_type": "markdown",
   "metadata": {},
   "source": [
    "### Use Superposition to Extend to Solenoid"
   ]
  },
  {
   "cell_type": "code",
   "execution_count": 207,
   "metadata": {},
   "outputs": [
    {
     "data": {
      "text/latex": [
       "$\\displaystyle 1.00000000054438 \\cdot 10^{-7} I \\sum_{\\substack{0 \\leq j \\leq N\\\\0 \\leq i \\leq M}} \\left(\\mathbf{\\hat{k}_{C}} \\left(- r_{0} + {R}_{j}\\right) + \\mathbf{\\hat{r}_{C}} {Z}_{i}\\right) {R}_{j} \\int\\limits_{0}^{6.28318530717959} \\left(r_{0}^{2} - 2 r_{0} \\cos{\\left(\\theta \\right)} {R}_{j} + {R}_{j}^{2} + {Z}_{i}^{2}\\right)^{-1.5}\\, d\\theta$"
      ],
      "text/plain": [
       "1.00000000054438e-7*I*Sum((C.k*(-r_0 + R[j]) + C.r*Z[i])*R[j]*Integral((r_0**2 - 2*r_0*cos(theta)*R[j] + R[j]**2 + Z[i]**2)**(-1.5), (theta, 0, 6.28318530717959)), (j, 0, N), (i, 0, M))"
      ]
     },
     "execution_count": 207,
     "metadata": {},
     "output_type": "execute_result"
    }
   ],
   "source": [
    "Z = sym.IndexedBase('Z')\n",
    "R = sym.IndexedBase('R')\n",
    "\n",
    "i, j = sym.symbols('i j', cls=sym.Idx)\n",
    "M, N = sym.symbols('M N', integer=True, positive=True)\n",
    "B_indexed = B_point.subs({ z_0: Z[i], D: R[j] })\n",
    "# Where N is the number of turns per level and M is the number of levels\n",
    "B_sum = sym.Sum(sym.Sum(B_indexed, (j, 0, N)), (i, 0, M))\n",
    "\n",
    "# Preview the sum\n",
    "B_sum.simplify()"
   ]
  },
  {
   "cell_type": "markdown",
   "metadata": {},
   "source": [
    "Plugging in values!"
   ]
  },
  {
   "cell_type": "code",
   "execution_count": 302,
   "metadata": {},
   "outputs": [],
   "source": [
    "Z_vals = [C.K + wire_radius * i for i in range(number_of_levels)]\n",
    "R_vals = [solenoid_radius + wire_radius * j for j in range(turns_per_level)]\n",
    "\n",
    "B = B_sum.subs({\n",
    "    N: turns_per_level - 1,\n",
    "    M: number_of_levels - 1,\n",
    "    I: amperage,\n",
    "    r_0: C.R,\n",
    "}).doit().subs({\n",
    "    Z[i]: sym.simplify(Z_vals[i]) for i in range(number_of_levels)\n",
    "}).subs({\n",
    "    R[j]: sym.simplify(R_vals[j]) for j in range(turns_per_level)\n",
    "})"
   ]
  },
  {
   "cell_type": "markdown",
   "metadata": {},
   "source": [
    "## Force Acting on Dipole"
   ]
  },
  {
   "cell_type": "code",
   "execution_count": 303,
   "metadata": {},
   "outputs": [
    {
     "data": {
      "text/latex": [
       "$\\displaystyle \\left(1.57350981468055 \\cdot 10^{-7}\\right)\\mathbf{\\hat{k}_{C}} + \\left(-1.04376151040477 \\cdot 10^{-6}\\right)\\mathbf{\\hat{r}_{C}}$"
      ],
      "text/plain": [
       "(-1.04376151040477e-6)*C.r + (1.57350981468055e-7)*C.k"
      ]
     },
     "execution_count": 303,
     "metadata": {},
     "output_type": "execute_result"
    }
   ],
   "source": [
    "# Magnetic moment of the dipole, as a vector\n",
    "mu = - dipole_moment_magnitude * C.k\n",
    "delop = vec.Del()\n",
    "\n",
    "# Convert B to a Vector type\n",
    "F_dipole = mu.dot(delop)(B).subs({\n",
    "    C.R: dipole_x,\n",
    "    C.K: dipole_z,\n",
    "})\n",
    "\n",
    "F_dipole.simplify()"
   ]
  }
 ],
 "metadata": {
  "kernelspec": {
   "display_name": ".venv",
   "language": "python",
   "name": "python3"
  },
  "language_info": {
   "codemirror_mode": {
    "name": "ipython",
    "version": 3
   },
   "file_extension": ".py",
   "mimetype": "text/x-python",
   "name": "python",
   "nbconvert_exporter": "python",
   "pygments_lexer": "ipython3",
   "version": "3.10.8"
  }
 },
 "nbformat": 4,
 "nbformat_minor": 2
}
